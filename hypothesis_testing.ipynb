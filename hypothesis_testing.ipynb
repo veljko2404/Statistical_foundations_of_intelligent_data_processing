{
 "cells": [
  {
   "cell_type": "code",
   "execution_count": 1,
   "id": "66cf046b-f5d1-4d60-aafb-7a8adcdfe84f",
   "metadata": {},
   "outputs": [],
   "source": [
    "import pandas as pd\n",
    "import numpy as np\n",
    "import scipy.stats as stats\n",
    "import math"
   ]
  },
  {
   "cell_type": "code",
   "execution_count": 2,
   "id": "8668924e-6e98-4a93-adc4-3946a3cb2de1",
   "metadata": {},
   "outputs": [],
   "source": [
    "data = pd.read_csv(\"Bank_Churn.csv\")\n",
    "\n",
    "geography = np.asarray(data[\"Geography\"])\n",
    "gender = np.asarray(data[\"Gender\"])\n",
    "balance = np.asarray(data[\"Balance\"])\n",
    "estimated_salary = np.asarray(data[\"EstimatedSalary\"])"
   ]
  },
  {
   "cell_type": "code",
   "execution_count": 3,
   "id": "1460b4b0-ede3-47b3-9af6-34ca14f6add9",
   "metadata": {},
   "outputs": [],
   "source": [
    "estimated_salary_france = estimated_salary[geography == \"France\"]\n",
    "estimated_salary_spain = estimated_salary[geography == \"Spain\"]\n",
    "estimated_salary_germany = estimated_salary[geography == \"Germany\"]\n",
    "\n",
    "salaries = {\n",
    "    \"France\": estimated_salary_france,\n",
    "    \"Spain\": estimated_salary_spain,\n",
    "    \"Germany\": estimated_salary_germany\n",
    "}"
   ]
  },
  {
   "cell_type": "code",
   "execution_count": 4,
   "id": "72ef089b-419a-4134-8b03-b63d5c861e45",
   "metadata": {},
   "outputs": [
    {
     "name": "stdout",
     "output_type": "stream",
     "text": [
      "Mean estimated salary in France: 99899.18\n",
      "T-statistic: -0.24, P-value: 0.8135\n",
      "The mean salary in France is significantly different\n",
      "95% Confidence Interval: [98311.77, 101486.60]\n",
      "\n",
      "Mean estimated salary in Spain: 99440.57\n",
      "T-statistic: -0.57, P-value: 0.5713\n",
      "The mean salary in Spain is significantly different\n",
      "95% Confidence Interval: [97190.68, 101690.46]\n",
      "\n",
      "Mean estimated salary in Germany: 101113.44\n",
      "T-statistic: 0.88, P-value: 0.3791\n",
      "The mean salary in Germany is significantly different\n",
      "95% Confidence Interval: [98832.57, 103394.30]\n",
      "\n"
     ]
    }
   ],
   "source": [
    "# One-Sample T-Test\n",
    "# We will check if estimated salary is significantly different in each\n",
    "# of the 3 countries from data (France, Germany and Spain)\n",
    "\n",
    "for country, salary in salaries.items():\n",
    "    print(f\"Mean estimated salary in {country}: {salary.mean():.2f}\")\n",
    "    t_stat, p_value = stats.ttest_1samp(a=salary, popmean=estimated_salary.mean())\n",
    "    print(f\"T-statistic: {t_stat:.2f}, P-value: {p_value:.4f}\")\n",
    "\n",
    "    if p_value > 0.05:\n",
    "        print(f\"The mean salary in {country} is significantly different\")\n",
    "    else:\n",
    "        print(f\"No significant difference in {country}\")\n",
    "\n",
    "    sigma = salary.std(ddof=1) / math.sqrt(salary.size)\n",
    "    conf_int = stats.t.interval(0.95, df=salary.size - 1, loc=salary.mean(), scale=sigma)\n",
    "    print(f\"95% Confidence Interval: [{conf_int[0]:.2f}, {conf_int[1]:.2f}]\\n\")"
   ]
  },
  {
   "cell_type": "code",
   "execution_count": 5,
   "id": "2dedcba0-4888-45aa-b719-67d70fe2c5a3",
   "metadata": {},
   "outputs": [
    {
     "name": "stdout",
     "output_type": "stream",
     "text": [
      "TtestResult(statistic=0.3265712452984885, pvalue=0.7440060016207449, df=4950.054044935552)\n"
     ]
    }
   ],
   "source": [
    "# Two-Sample T-Test\n",
    "# Here we will check whether means of France and Spain differ\n",
    "\n",
    "print(stats.ttest_ind(a=estimated_salary_france, b=estimated_salary_spain, equal_var=False))\n"
   ]
  },
  {
   "cell_type": "code",
   "execution_count": null,
   "id": "2ab6997f-268e-45ba-a751-aefc53099db5",
   "metadata": {},
   "outputs": [],
   "source": []
  }
 ],
 "metadata": {
  "kernelspec": {
   "display_name": "Python 3 (ipykernel)",
   "language": "python",
   "name": "python3"
  },
  "language_info": {
   "codemirror_mode": {
    "name": "ipython",
    "version": 3
   },
   "file_extension": ".py",
   "mimetype": "text/x-python",
   "name": "python",
   "nbconvert_exporter": "python",
   "pygments_lexer": "ipython3",
   "version": "3.12.6"
  }
 },
 "nbformat": 4,
 "nbformat_minor": 5
}
