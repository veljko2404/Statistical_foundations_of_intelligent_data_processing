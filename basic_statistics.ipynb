{
 "cells": [
  {
   "cell_type": "code",
   "execution_count": 2,
   "id": "cd3170dc-7598-4ea0-929c-0f7e2f5dd21e",
   "metadata": {},
   "outputs": [],
   "source": [
    "import pandas as pd\n",
    "import numpy as np\n",
    "from statistics import mode"
   ]
  },
  {
   "cell_type": "code",
   "execution_count": 6,
   "id": "640c9c4e-cd09-4c55-8bbe-a1a4bb5a0b0c",
   "metadata": {},
   "outputs": [],
   "source": [
    "data = pd.read_csv(\"Bank_Churn.csv\")\n",
    "\n",
    "credit_score = np.asarray(data[\"CreditScore\"])  # Customer's credit score\n",
    "geography = np.asarray(data[\"Geography\"])  # The country where the customer resides\n",
    "gender = np.asarray(data[\"Gender\"])  # The customer's gender (Male or Female)\n",
    "age = np.asarray(data[\"Age\"])  # The customer's age\n",
    "tenure = np.asarray(data[\"Tenure\"])  # The number of years the customer has been with the bank\n",
    "balance = np.asarray(data[\"Balance\"])  # The customer's account balance\n",
    "has_credit_card = np.asarray(data[\"HasCrCard\"])  # Whether the customer has a credit card (1 = yes, 0 = no)\n",
    "estimated_salary = np.asarray(data[\"EstimatedSalary\"])  # The estimated salary of the customer\n",
    "\n",
    "all_data = {\n",
    "    \"Credit Score\": credit_score,\n",
    "    \"Age\": age,\n",
    "    \"Tenure\": tenure,\n",
    "    \"Balance\": balance,\n",
    "    \"Estimated Salary\": estimated_salary,\n",
    "}"
   ]
  },
  {
   "cell_type": "code",
   "execution_count": 7,
   "id": "87c758e8-c38c-4e7b-9b7d-bc781d601e02",
   "metadata": {},
   "outputs": [
    {
     "name": "stdout",
     "output_type": "stream",
     "text": [
      "Credit Score\n",
      "Mean: 650.53\n",
      "Median: 652.00\n",
      "Mode: 850.00\n",
      "Min: 350.00\n",
      "Max: 850.00\n",
      "25th percentile: 584.00\n",
      "75th percentile: 718.00\n",
      "Standard Deviation: 96.65\n",
      "\n",
      "Age\n",
      "Mean: 38.92\n",
      "Median: 37.00\n",
      "Mode: 37.00\n",
      "Min: 18.00\n",
      "Max: 92.00\n",
      "25th percentile: 32.00\n",
      "75th percentile: 44.00\n",
      "Standard Deviation: 10.49\n",
      "\n",
      "Tenure\n",
      "Mean: 5.01\n",
      "Median: 5.00\n",
      "Mode: 2.00\n",
      "Min: 0.00\n",
      "Max: 10.00\n",
      "25th percentile: 3.00\n",
      "75th percentile: 7.00\n",
      "Standard Deviation: 2.89\n",
      "\n",
      "Balance\n",
      "Mean: 76485.89\n",
      "Median: 97198.54\n",
      "Mode: 0.00\n",
      "Min: 0.00\n",
      "Max: 250898.09\n",
      "25th percentile: 0.00\n",
      "75th percentile: 127644.24\n",
      "Standard Deviation: 62394.29\n",
      "\n",
      "Estimated Salary\n",
      "Mean: 100090.24\n",
      "Median: 100193.91\n",
      "Mode: 24924.92\n",
      "Min: 11.58\n",
      "Max: 199992.48\n",
      "25th percentile: 51002.11\n",
      "75th percentile: 149388.25\n",
      "Standard Deviation: 57507.62\n",
      "\n"
     ]
    }
   ],
   "source": [
    "for key, value in all_data.items():\n",
    "    print(f\"{key}\")\n",
    "    print(f\"Mean: {value.mean():.2f}\")\n",
    "    print(f\"Median: {np.median(value):.2f}\")\n",
    "    print(f\"Mode: {mode(value):.2f}\")\n",
    "    print(f\"Min: {value.min():.2f}\")\n",
    "    print(f\"Max: {value.max():.2f}\")\n",
    "    print(f\"25th percentile: {np.quantile(value, 0.25):.2f}\")\n",
    "    print(f\"75th percentile: {np.quantile(value, 0.75):.2f}\")\n",
    "    print(f\"Standard Deviation: {value.std():.2f}\\n\")"
   ]
  },
  {
   "cell_type": "code",
   "execution_count": null,
   "id": "3cb95e10-e553-4b8b-a47a-15077728f414",
   "metadata": {},
   "outputs": [],
   "source": []
  }
 ],
 "metadata": {
  "kernelspec": {
   "display_name": "Python 3 (ipykernel)",
   "language": "python",
   "name": "python3"
  },
  "language_info": {
   "codemirror_mode": {
    "name": "ipython",
    "version": 3
   },
   "file_extension": ".py",
   "mimetype": "text/x-python",
   "name": "python",
   "nbconvert_exporter": "python",
   "pygments_lexer": "ipython3",
   "version": "3.12.6"
  }
 },
 "nbformat": 4,
 "nbformat_minor": 5
}
