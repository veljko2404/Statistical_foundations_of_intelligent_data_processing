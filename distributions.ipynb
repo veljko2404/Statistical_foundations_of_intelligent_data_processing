{
 "cells": [
  {
   "cell_type": "code",
   "execution_count": 1,
   "id": "45d67dbb-3c6b-4821-b665-8ec6b2a5deec",
   "metadata": {},
   "outputs": [],
   "source": [
    "from scipy.stats import kstest\n",
    "import pandas as pd\n",
    "from fitter import Fitter\n",
    "import numpy as np"
   ]
  },
  {
   "cell_type": "code",
   "execution_count": 2,
   "id": "7b755f2e-13e6-4df3-8cda-d94f25eab018",
   "metadata": {},
   "outputs": [],
   "source": [
    "df = pd.read_csv(\"Bank_Churn.csv\")\n",
    "\n",
    "balance=np.asarray(df[\"Balance\"])\n",
    "balance_without_0 = balance[balance!=0] # removing 0 values from balance\n",
    "\n",
    "all_data = {\n",
    "    \"Credit Score\": df[\"CreditScore\"],\n",
    "    \"Age\": df[\"Age\"],\n",
    "    \"Tenure\": df[\"Tenure\"],\n",
    "    \"Balance\": df[\"Balance\"],\n",
    "    \"Balance without 0\" : balance_without_0,\n",
    "    \"Estimated Salary\": df[\"EstimatedSalary\"],\n",
    "}"
   ]
  },
  {
   "cell_type": "code",
   "execution_count": 4,
   "id": "aeab1c40-edb6-4921-bdf0-b729c4c26a43",
   "metadata": {},
   "outputs": [
    {
     "name": "stdout",
     "output_type": "stream",
     "text": [
      "\n",
      "Credit Score fits best for norm distribution\n",
      "K-S Test Statistic: 0.019514369097252127\n",
      "P-value: 0.0009716147073086625\n",
      "\n",
      "Age fits best for norm distribution\n",
      "K-S Test Statistic: 0.10095678840195232\n",
      "P-value: 3.4923142093726695e-89\n",
      "\n",
      "Tenure fits best for uniform distribution\n",
      "K-S Test Statistic: 0.0587\n",
      "P-value: 2.151990320657676e-30\n",
      "\n",
      "Balance fits best for expon distribution\n",
      "K-S Test Statistic: 0.3617\n",
      "P-value: 0.0\n",
      "\n",
      "Balance without 0 fits best for norm distribution\n",
      "K-S Test Statistic: 0.011676056307954513\n",
      "P-value: 0.34634901329149326\n",
      "\n",
      "Estimated Salary fits best for uniform distribution\n",
      "K-S Test Statistic: 0.006142988736376448\n",
      "P-value: 0.8424774565045001\n"
     ]
    }
   ],
   "source": [
    "for key, value in all_data.items():\n",
    "    f = Fitter(value, distributions=['uniform', 'norm', 'expon'])\n",
    "    f.fit()\n",
    "    best_distribution = list(f.get_best().keys())[0] # returns the best distribution\n",
    "    print(f\"\\n{key} fits best for {best_distribution} distribution\")\n",
    "    if best_distribution == \"uniform\":\n",
    "        statistic, p_value = kstest(value, 'uniform', args=(value.min(), value.max()))\n",
    "        print(\"K-S Test Statistic:\", statistic)\n",
    "        print(\"P-value:\", p_value)\n",
    "    elif best_distribution == \"norm\":\n",
    "        statistic, p_value = kstest(value, 'norm', args=(np.mean(value), np.std(value)))\n",
    "        print(\"K-S Test Statistic:\", statistic)\n",
    "        print(\"P-value:\", p_value)\n",
    "    elif best_distribution == \"expon\":\n",
    "        statistic, p_value = kstest(value, 'expon', args=(0, np.mean(value)))\n",
    "        print(\"K-S Test Statistic:\", statistic)\n",
    "        print(\"P-value:\", p_value)"
   ]
  },
  {
   "cell_type": "code",
   "execution_count": null,
   "id": "b2aaac59-7c9a-4b4d-a188-a9d0086b50e8",
   "metadata": {},
   "outputs": [],
   "source": []
  }
 ],
 "metadata": {
  "kernelspec": {
   "display_name": "Python 3 (ipykernel)",
   "language": "python",
   "name": "python3"
  },
  "language_info": {
   "codemirror_mode": {
    "name": "ipython",
    "version": 3
   },
   "file_extension": ".py",
   "mimetype": "text/x-python",
   "name": "python",
   "nbconvert_exporter": "python",
   "pygments_lexer": "ipython3",
   "version": "3.12.6"
  }
 },
 "nbformat": 4,
 "nbformat_minor": 5
}
